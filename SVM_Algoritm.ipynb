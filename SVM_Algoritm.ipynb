{
  "nbformat": 4,
  "nbformat_minor": 0,
  "metadata": {
    "colab": {
      "provenance": [],
      "authorship_tag": "ABX9TyNAkb5k5T8QlXJqhRz845yA",
      "include_colab_link": true
    },
    "kernelspec": {
      "name": "python3",
      "display_name": "Python 3"
    },
    "language_info": {
      "name": "python"
    }
  },
  "cells": [
    {
      "cell_type": "markdown",
      "metadata": {
        "id": "view-in-github",
        "colab_type": "text"
      },
      "source": [
        "<a href=\"https://colab.research.google.com/github/chychur/SVM_algoritm/blob/main/SVM_Algoritm.ipynb\" target=\"_parent\"><img src=\"https://colab.research.google.com/assets/colab-badge.svg\" alt=\"Open In Colab\"/></a>"
      ]
    },
    {
      "cell_type": "markdown",
      "source": [
        "## SVM Algoritm\n",
        "\n",
        "According to the accelerometer data from the mobile phone, we classify what kind of activity a person is engaged in: walking, standing, running or climbing stairs. You can find the dataset at [link](https://drive.google.com/file/d/1nzrtQpfaHL0OgJ_eXzA7VuEj7XotrSWO/view \"Accelerometer data\").\n",
        "\n",
        "We use SVM algorithms and random forest from the `scikit-learn` library. As characteristics, we will choose indicators from the accelerometer, but in order to improve the performance of the algorithms, it is first necessary to prepare the dataset and calculate the time domain features.\n",
        "\n",
        "Compare the performance results of both algorithms on different features and different models."
      ],
      "metadata": {
        "id": "wKWvRpldye9C"
      }
    },
    {
      "cell_type": "markdown",
      "source": [
        "### 1. Data verification\n",
        "\n",
        "Our data is downloaded from [archive](https://drive.google.com/file/d/1nzrtQpfaHL0OgJ_eXzA7VuEj7XotrSWO/view \"Accelerometer data\") to Google Drive. Let's import the necessary dependencies and also check their content."
      ],
      "metadata": {
        "id": "8SR0LnI4G223"
      }
    },
    {
      "cell_type": "code",
      "execution_count": 1,
      "metadata": {
        "colab": {
          "base_uri": "https://localhost:8080/"
        },
        "id": "BF4_XlIoyUpg",
        "outputId": "ff63d568-0cd8-4229-9d8f-30746dcaee4e"
      },
      "outputs": [
        {
          "output_type": "stream",
          "name": "stdout",
          "text": [
            "Mounted at /content/drive\n"
          ]
        }
      ],
      "source": [
        "from google.colab import drive\n",
        "drive.mount('/content/drive')"
      ]
    },
    {
      "cell_type": "code",
      "source": [
        "#presetings\n",
        "\n",
        "import numpy as np\n",
        "import pandas as pd\n",
        "import pickle\n",
        "\n",
        "from os import listdir\n",
        "from os.path import join\n",
        "from sklearn import model_selection, svm\n",
        "from sklearn.metrics import mean_absolute_error, mean_squared_error, accuracy_score, classification_report\n",
        "from sklearn.ensemble import RandomForestClassifier\n",
        "\n",
        "\n",
        "URL = \"/content/drive/MyDrive/Colab Notebooks/data\"\n"
      ],
      "metadata": {
        "id": "hJCkvW37Gfs-"
      },
      "execution_count": 2,
      "outputs": []
    },
    {
      "cell_type": "code",
      "source": [
        "activities = listdir(URL)\n",
        "activities"
      ],
      "metadata": {
        "colab": {
          "base_uri": "https://localhost:8080/"
        },
        "id": "dxRC0hM4Huvy",
        "outputId": "46320c68-6b60-4c28-ed8c-fd235160f8cb"
      },
      "execution_count": 3,
      "outputs": [
        {
          "output_type": "execute_result",
          "data": {
            "text/plain": [
              "['stairs', 'walking', 'running', 'idle']"
            ]
          },
          "metadata": {},
          "execution_count": 3
        }
      ]
    },
    {
      "cell_type": "code",
      "source": [
        "for act in activities:\n",
        "    path = join(URL, act)\n",
        "    frames = listdir(path)\n",
        "    print(f\"{act}: {len(frames)}\")"
      ],
      "metadata": {
        "colab": {
          "base_uri": "https://localhost:8080/"
        },
        "id": "_7P3MpAdIZtj",
        "outputId": "513b450c-fc2f-4e3c-c64c-0a104d797fee"
      },
      "execution_count": 4,
      "outputs": [
        {
          "output_type": "stream",
          "name": "stdout",
          "text": [
            "stairs: 165\n",
            "walking: 1850\n",
            "running: 3438\n",
            "idle: 1039\n"
          ]
        }
      ]
    },
    {
      "cell_type": "code",
      "source": [
        "frms = listdir(join(URL, \"stairs\"))\n",
        "frame = pd.read_csv(join(join(URL, \"stairs\"), frms[2]))\n",
        "frame.head(3)"
      ],
      "metadata": {
        "colab": {
          "base_uri": "https://localhost:8080/",
          "height": 143
        },
        "id": "LmCQxKVGJsme",
        "outputId": "d188ac36-c6fd-4ede-dca9-12c576379194"
      },
      "execution_count": 5,
      "outputs": [
        {
          "output_type": "execute_result",
          "data": {
            "text/plain": [
              "   accelerometer_X  accelerometer_Y  accelerometer_Z\n",
              "0         3.289633        -7.469909        -0.043096\n",
              "1        -1.651999       -17.535133        -2.250549\n",
              "2        -6.320692        -6.196194         1.896208"
            ],
            "text/html": [
              "\n",
              "  <div id=\"df-e2a1f56d-92a5-43b9-b694-37e6b52a6f8c\" class=\"colab-df-container\">\n",
              "    <div>\n",
              "<style scoped>\n",
              "    .dataframe tbody tr th:only-of-type {\n",
              "        vertical-align: middle;\n",
              "    }\n",
              "\n",
              "    .dataframe tbody tr th {\n",
              "        vertical-align: top;\n",
              "    }\n",
              "\n",
              "    .dataframe thead th {\n",
              "        text-align: right;\n",
              "    }\n",
              "</style>\n",
              "<table border=\"1\" class=\"dataframe\">\n",
              "  <thead>\n",
              "    <tr style=\"text-align: right;\">\n",
              "      <th></th>\n",
              "      <th>accelerometer_X</th>\n",
              "      <th>accelerometer_Y</th>\n",
              "      <th>accelerometer_Z</th>\n",
              "    </tr>\n",
              "  </thead>\n",
              "  <tbody>\n",
              "    <tr>\n",
              "      <th>0</th>\n",
              "      <td>3.289633</td>\n",
              "      <td>-7.469909</td>\n",
              "      <td>-0.043096</td>\n",
              "    </tr>\n",
              "    <tr>\n",
              "      <th>1</th>\n",
              "      <td>-1.651999</td>\n",
              "      <td>-17.535133</td>\n",
              "      <td>-2.250549</td>\n",
              "    </tr>\n",
              "    <tr>\n",
              "      <th>2</th>\n",
              "      <td>-6.320692</td>\n",
              "      <td>-6.196194</td>\n",
              "      <td>1.896208</td>\n",
              "    </tr>\n",
              "  </tbody>\n",
              "</table>\n",
              "</div>\n",
              "    <div class=\"colab-df-buttons\">\n",
              "\n",
              "  <div class=\"colab-df-container\">\n",
              "    <button class=\"colab-df-convert\" onclick=\"convertToInteractive('df-e2a1f56d-92a5-43b9-b694-37e6b52a6f8c')\"\n",
              "            title=\"Convert this dataframe to an interactive table.\"\n",
              "            style=\"display:none;\">\n",
              "\n",
              "  <svg xmlns=\"http://www.w3.org/2000/svg\" height=\"24px\" viewBox=\"0 -960 960 960\">\n",
              "    <path d=\"M120-120v-720h720v720H120Zm60-500h600v-160H180v160Zm220 220h160v-160H400v160Zm0 220h160v-160H400v160ZM180-400h160v-160H180v160Zm440 0h160v-160H620v160ZM180-180h160v-160H180v160Zm440 0h160v-160H620v160Z\"/>\n",
              "  </svg>\n",
              "    </button>\n",
              "\n",
              "  <style>\n",
              "    .colab-df-container {\n",
              "      display:flex;\n",
              "      gap: 12px;\n",
              "    }\n",
              "\n",
              "    .colab-df-convert {\n",
              "      background-color: #E8F0FE;\n",
              "      border: none;\n",
              "      border-radius: 50%;\n",
              "      cursor: pointer;\n",
              "      display: none;\n",
              "      fill: #1967D2;\n",
              "      height: 32px;\n",
              "      padding: 0 0 0 0;\n",
              "      width: 32px;\n",
              "    }\n",
              "\n",
              "    .colab-df-convert:hover {\n",
              "      background-color: #E2EBFA;\n",
              "      box-shadow: 0px 1px 2px rgba(60, 64, 67, 0.3), 0px 1px 3px 1px rgba(60, 64, 67, 0.15);\n",
              "      fill: #174EA6;\n",
              "    }\n",
              "\n",
              "    .colab-df-buttons div {\n",
              "      margin-bottom: 4px;\n",
              "    }\n",
              "\n",
              "    [theme=dark] .colab-df-convert {\n",
              "      background-color: #3B4455;\n",
              "      fill: #D2E3FC;\n",
              "    }\n",
              "\n",
              "    [theme=dark] .colab-df-convert:hover {\n",
              "      background-color: #434B5C;\n",
              "      box-shadow: 0px 1px 3px 1px rgba(0, 0, 0, 0.15);\n",
              "      filter: drop-shadow(0px 1px 2px rgba(0, 0, 0, 0.3));\n",
              "      fill: #FFFFFF;\n",
              "    }\n",
              "  </style>\n",
              "\n",
              "    <script>\n",
              "      const buttonEl =\n",
              "        document.querySelector('#df-e2a1f56d-92a5-43b9-b694-37e6b52a6f8c button.colab-df-convert');\n",
              "      buttonEl.style.display =\n",
              "        google.colab.kernel.accessAllowed ? 'block' : 'none';\n",
              "\n",
              "      async function convertToInteractive(key) {\n",
              "        const element = document.querySelector('#df-e2a1f56d-92a5-43b9-b694-37e6b52a6f8c');\n",
              "        const dataTable =\n",
              "          await google.colab.kernel.invokeFunction('convertToInteractive',\n",
              "                                                    [key], {});\n",
              "        if (!dataTable) return;\n",
              "\n",
              "        const docLinkHtml = 'Like what you see? Visit the ' +\n",
              "          '<a target=\"_blank\" href=https://colab.research.google.com/notebooks/data_table.ipynb>data table notebook</a>'\n",
              "          + ' to learn more about interactive tables.';\n",
              "        element.innerHTML = '';\n",
              "        dataTable['output_type'] = 'display_data';\n",
              "        await google.colab.output.renderOutput(dataTable, element);\n",
              "        const docLink = document.createElement('div');\n",
              "        docLink.innerHTML = docLinkHtml;\n",
              "        element.appendChild(docLink);\n",
              "      }\n",
              "    </script>\n",
              "  </div>\n",
              "\n",
              "\n",
              "<div id=\"df-8fe564e0-2583-480a-8dcd-862d54a8e860\">\n",
              "  <button class=\"colab-df-quickchart\" onclick=\"quickchart('df-8fe564e0-2583-480a-8dcd-862d54a8e860')\"\n",
              "            title=\"Suggest charts\"\n",
              "            style=\"display:none;\">\n",
              "\n",
              "<svg xmlns=\"http://www.w3.org/2000/svg\" height=\"24px\"viewBox=\"0 0 24 24\"\n",
              "     width=\"24px\">\n",
              "    <g>\n",
              "        <path d=\"M19 3H5c-1.1 0-2 .9-2 2v14c0 1.1.9 2 2 2h14c1.1 0 2-.9 2-2V5c0-1.1-.9-2-2-2zM9 17H7v-7h2v7zm4 0h-2V7h2v10zm4 0h-2v-4h2v4z\"/>\n",
              "    </g>\n",
              "</svg>\n",
              "  </button>\n",
              "\n",
              "<style>\n",
              "  .colab-df-quickchart {\n",
              "      --bg-color: #E8F0FE;\n",
              "      --fill-color: #1967D2;\n",
              "      --hover-bg-color: #E2EBFA;\n",
              "      --hover-fill-color: #174EA6;\n",
              "      --disabled-fill-color: #AAA;\n",
              "      --disabled-bg-color: #DDD;\n",
              "  }\n",
              "\n",
              "  [theme=dark] .colab-df-quickchart {\n",
              "      --bg-color: #3B4455;\n",
              "      --fill-color: #D2E3FC;\n",
              "      --hover-bg-color: #434B5C;\n",
              "      --hover-fill-color: #FFFFFF;\n",
              "      --disabled-bg-color: #3B4455;\n",
              "      --disabled-fill-color: #666;\n",
              "  }\n",
              "\n",
              "  .colab-df-quickchart {\n",
              "    background-color: var(--bg-color);\n",
              "    border: none;\n",
              "    border-radius: 50%;\n",
              "    cursor: pointer;\n",
              "    display: none;\n",
              "    fill: var(--fill-color);\n",
              "    height: 32px;\n",
              "    padding: 0;\n",
              "    width: 32px;\n",
              "  }\n",
              "\n",
              "  .colab-df-quickchart:hover {\n",
              "    background-color: var(--hover-bg-color);\n",
              "    box-shadow: 0 1px 2px rgba(60, 64, 67, 0.3), 0 1px 3px 1px rgba(60, 64, 67, 0.15);\n",
              "    fill: var(--button-hover-fill-color);\n",
              "  }\n",
              "\n",
              "  .colab-df-quickchart-complete:disabled,\n",
              "  .colab-df-quickchart-complete:disabled:hover {\n",
              "    background-color: var(--disabled-bg-color);\n",
              "    fill: var(--disabled-fill-color);\n",
              "    box-shadow: none;\n",
              "  }\n",
              "\n",
              "  .colab-df-spinner {\n",
              "    border: 2px solid var(--fill-color);\n",
              "    border-color: transparent;\n",
              "    border-bottom-color: var(--fill-color);\n",
              "    animation:\n",
              "      spin 1s steps(1) infinite;\n",
              "  }\n",
              "\n",
              "  @keyframes spin {\n",
              "    0% {\n",
              "      border-color: transparent;\n",
              "      border-bottom-color: var(--fill-color);\n",
              "      border-left-color: var(--fill-color);\n",
              "    }\n",
              "    20% {\n",
              "      border-color: transparent;\n",
              "      border-left-color: var(--fill-color);\n",
              "      border-top-color: var(--fill-color);\n",
              "    }\n",
              "    30% {\n",
              "      border-color: transparent;\n",
              "      border-left-color: var(--fill-color);\n",
              "      border-top-color: var(--fill-color);\n",
              "      border-right-color: var(--fill-color);\n",
              "    }\n",
              "    40% {\n",
              "      border-color: transparent;\n",
              "      border-right-color: var(--fill-color);\n",
              "      border-top-color: var(--fill-color);\n",
              "    }\n",
              "    60% {\n",
              "      border-color: transparent;\n",
              "      border-right-color: var(--fill-color);\n",
              "    }\n",
              "    80% {\n",
              "      border-color: transparent;\n",
              "      border-right-color: var(--fill-color);\n",
              "      border-bottom-color: var(--fill-color);\n",
              "    }\n",
              "    90% {\n",
              "      border-color: transparent;\n",
              "      border-bottom-color: var(--fill-color);\n",
              "    }\n",
              "  }\n",
              "</style>\n",
              "\n",
              "  <script>\n",
              "    async function quickchart(key) {\n",
              "      const quickchartButtonEl =\n",
              "        document.querySelector('#' + key + ' button');\n",
              "      quickchartButtonEl.disabled = true;  // To prevent multiple clicks.\n",
              "      quickchartButtonEl.classList.add('colab-df-spinner');\n",
              "      try {\n",
              "        const charts = await google.colab.kernel.invokeFunction(\n",
              "            'suggestCharts', [key], {});\n",
              "      } catch (error) {\n",
              "        console.error('Error during call to suggestCharts:', error);\n",
              "      }\n",
              "      quickchartButtonEl.classList.remove('colab-df-spinner');\n",
              "      quickchartButtonEl.classList.add('colab-df-quickchart-complete');\n",
              "    }\n",
              "    (() => {\n",
              "      let quickchartButtonEl =\n",
              "        document.querySelector('#df-8fe564e0-2583-480a-8dcd-862d54a8e860 button');\n",
              "      quickchartButtonEl.style.display =\n",
              "        google.colab.kernel.accessAllowed ? 'block' : 'none';\n",
              "    })();\n",
              "  </script>\n",
              "</div>\n",
              "    </div>\n",
              "  </div>\n"
            ]
          },
          "metadata": {},
          "execution_count": 5
        }
      ]
    },
    {
      "cell_type": "markdown",
      "source": [
        "### 2. Data preparating"
      ],
      "metadata": {
        "id": "cfulllk_yd1M"
      }
    },
    {
      "cell_type": "code",
      "source": [
        "def get_stat_features(frame):\n",
        "    features = np.array([])\n",
        "    features = np.concatenate((features, frame.skew(axis=0).values), axis=0)\n",
        "    features = np.concatenate((features, frame.kurt(axis=0).values), axis=0)\n",
        "    features = np.concatenate((features, frame.max(axis=0).values), axis=0)\n",
        "    features = np.concatenate((features, frame.min(axis=0).values), axis=0)\n",
        "    features = np.concatenate((features, frame.mean(axis=0).values), axis=0)\n",
        "    features = np.concatenate((features, frame.std(axis=0).values), axis=0)\n",
        "    features = np.concatenate((features, frame.var(axis=0).values), axis=0)\n",
        "    features = np.concatenate((features, frame.median(axis=0).values), axis=0)\n",
        "    features = np.concatenate((features, frame.idxmax(axis=0).values), axis=0)\n",
        "    features = np.concatenate((features, frame.idxmin(axis=0).values), axis=0)\n",
        "    correlations = frame.corr()\n",
        "    corr = np.array([correlations['accelerometer_X']['accelerometer_Y'], correlations['accelerometer_X']['accelerometer_Z'], correlations['accelerometer_Y']['accelerometer_Z']])\n",
        "    features = np.concatenate((features, corr), axis=0)\n",
        "\n",
        "    frame['mean_X'] = frame.mean(axis=0)['accelerometer_X']\n",
        "    frame['mean_Y'] = frame.mean(axis=0)['accelerometer_Y']\n",
        "    frame['mean_Z'] = frame.mean(axis=0)['accelerometer_Z']\n",
        "\n",
        "    mae_X = mean_absolute_error(frame['accelerometer_X'], frame['mean_X'])\n",
        "    mae_Y = mean_absolute_error(frame['accelerometer_Y'], frame['mean_Y'])\n",
        "    mae_Z = mean_absolute_error(frame['accelerometer_Z'], frame['mean_Z'])\n",
        "\n",
        "    rmse_x = np.sqrt(mean_squared_error(frame['accelerometer_X'], frame['mean_X']))\n",
        "    rmse_y = np.sqrt(mean_squared_error(frame['accelerometer_Y'], frame['mean_Y']))\n",
        "    rmse_z = np.sqrt(mean_squared_error(frame['accelerometer_Z'], frame['mean_Z']))\n",
        "\n",
        "    metrics = np.array([mae_X, mae_Y, mae_Z, rmse_x, rmse_y, rmse_z])\n",
        "    features = np.concatenate((features, metrics), axis=0)\n",
        "\n",
        "    return features"
      ],
      "metadata": {
        "id": "ovg4tjYLjC2N"
      },
      "execution_count": 6,
      "outputs": []
    },
    {
      "cell_type": "code",
      "source": [
        "len(get_stat_features(frame))"
      ],
      "metadata": {
        "colab": {
          "base_uri": "https://localhost:8080/"
        },
        "id": "Ec-C8EWajNL-",
        "outputId": "606915a5-17a8-4554-fe3d-3c0176eb82e4"
      },
      "execution_count": 7,
      "outputs": [
        {
          "output_type": "execute_result",
          "data": {
            "text/plain": [
              "39"
            ]
          },
          "metadata": {},
          "execution_count": 7
        }
      ]
    },
    {
      "cell_type": "markdown",
      "source": [
        "### 3. Discover calculation of features"
      ],
      "metadata": {
        "id": "tWBue3wfnBTE"
      }
    },
    {
      "cell_type": "code",
      "source": [
        "new_frame = frame"
      ],
      "metadata": {
        "id": "UgYZqT00nG0M"
      },
      "execution_count": 8,
      "outputs": []
    },
    {
      "cell_type": "code",
      "source": [
        "new_frame['mean_X'] = frame.mean(axis=0)['accelerometer_X']\n",
        "new_frame['mean_Y'] = frame.mean(axis=0)['accelerometer_Y']\n",
        "new_frame['mean_Z'] = frame.mean(axis=0)['accelerometer_Z']\n",
        "\n",
        "new_frame.head(3)"
      ],
      "metadata": {
        "colab": {
          "base_uri": "https://localhost:8080/",
          "height": 143
        },
        "id": "dsHGGBNInoov",
        "outputId": "b30c7775-cd2e-4cd3-f4cf-31f568329c1b"
      },
      "execution_count": 9,
      "outputs": [
        {
          "output_type": "execute_result",
          "data": {
            "text/plain": [
              "   accelerometer_X  accelerometer_Y  accelerometer_Z    mean_X    mean_Y  \\\n",
              "0         3.289633        -7.469909        -0.043096  2.366429 -9.539776   \n",
              "1        -1.651999       -17.535133        -2.250549  2.366429 -9.539776   \n",
              "2        -6.320692        -6.196194         1.896208  2.366429 -9.539776   \n",
              "\n",
              "     mean_Z  \n",
              "0 -0.848824  \n",
              "1 -0.848824  \n",
              "2 -0.848824  "
            ],
            "text/html": [
              "\n",
              "  <div id=\"df-c699dbb7-42e3-4fb4-9c9e-489ead253f97\" class=\"colab-df-container\">\n",
              "    <div>\n",
              "<style scoped>\n",
              "    .dataframe tbody tr th:only-of-type {\n",
              "        vertical-align: middle;\n",
              "    }\n",
              "\n",
              "    .dataframe tbody tr th {\n",
              "        vertical-align: top;\n",
              "    }\n",
              "\n",
              "    .dataframe thead th {\n",
              "        text-align: right;\n",
              "    }\n",
              "</style>\n",
              "<table border=\"1\" class=\"dataframe\">\n",
              "  <thead>\n",
              "    <tr style=\"text-align: right;\">\n",
              "      <th></th>\n",
              "      <th>accelerometer_X</th>\n",
              "      <th>accelerometer_Y</th>\n",
              "      <th>accelerometer_Z</th>\n",
              "      <th>mean_X</th>\n",
              "      <th>mean_Y</th>\n",
              "      <th>mean_Z</th>\n",
              "    </tr>\n",
              "  </thead>\n",
              "  <tbody>\n",
              "    <tr>\n",
              "      <th>0</th>\n",
              "      <td>3.289633</td>\n",
              "      <td>-7.469909</td>\n",
              "      <td>-0.043096</td>\n",
              "      <td>2.366429</td>\n",
              "      <td>-9.539776</td>\n",
              "      <td>-0.848824</td>\n",
              "    </tr>\n",
              "    <tr>\n",
              "      <th>1</th>\n",
              "      <td>-1.651999</td>\n",
              "      <td>-17.535133</td>\n",
              "      <td>-2.250549</td>\n",
              "      <td>2.366429</td>\n",
              "      <td>-9.539776</td>\n",
              "      <td>-0.848824</td>\n",
              "    </tr>\n",
              "    <tr>\n",
              "      <th>2</th>\n",
              "      <td>-6.320692</td>\n",
              "      <td>-6.196194</td>\n",
              "      <td>1.896208</td>\n",
              "      <td>2.366429</td>\n",
              "      <td>-9.539776</td>\n",
              "      <td>-0.848824</td>\n",
              "    </tr>\n",
              "  </tbody>\n",
              "</table>\n",
              "</div>\n",
              "    <div class=\"colab-df-buttons\">\n",
              "\n",
              "  <div class=\"colab-df-container\">\n",
              "    <button class=\"colab-df-convert\" onclick=\"convertToInteractive('df-c699dbb7-42e3-4fb4-9c9e-489ead253f97')\"\n",
              "            title=\"Convert this dataframe to an interactive table.\"\n",
              "            style=\"display:none;\">\n",
              "\n",
              "  <svg xmlns=\"http://www.w3.org/2000/svg\" height=\"24px\" viewBox=\"0 -960 960 960\">\n",
              "    <path d=\"M120-120v-720h720v720H120Zm60-500h600v-160H180v160Zm220 220h160v-160H400v160Zm0 220h160v-160H400v160ZM180-400h160v-160H180v160Zm440 0h160v-160H620v160ZM180-180h160v-160H180v160Zm440 0h160v-160H620v160Z\"/>\n",
              "  </svg>\n",
              "    </button>\n",
              "\n",
              "  <style>\n",
              "    .colab-df-container {\n",
              "      display:flex;\n",
              "      gap: 12px;\n",
              "    }\n",
              "\n",
              "    .colab-df-convert {\n",
              "      background-color: #E8F0FE;\n",
              "      border: none;\n",
              "      border-radius: 50%;\n",
              "      cursor: pointer;\n",
              "      display: none;\n",
              "      fill: #1967D2;\n",
              "      height: 32px;\n",
              "      padding: 0 0 0 0;\n",
              "      width: 32px;\n",
              "    }\n",
              "\n",
              "    .colab-df-convert:hover {\n",
              "      background-color: #E2EBFA;\n",
              "      box-shadow: 0px 1px 2px rgba(60, 64, 67, 0.3), 0px 1px 3px 1px rgba(60, 64, 67, 0.15);\n",
              "      fill: #174EA6;\n",
              "    }\n",
              "\n",
              "    .colab-df-buttons div {\n",
              "      margin-bottom: 4px;\n",
              "    }\n",
              "\n",
              "    [theme=dark] .colab-df-convert {\n",
              "      background-color: #3B4455;\n",
              "      fill: #D2E3FC;\n",
              "    }\n",
              "\n",
              "    [theme=dark] .colab-df-convert:hover {\n",
              "      background-color: #434B5C;\n",
              "      box-shadow: 0px 1px 3px 1px rgba(0, 0, 0, 0.15);\n",
              "      filter: drop-shadow(0px 1px 2px rgba(0, 0, 0, 0.3));\n",
              "      fill: #FFFFFF;\n",
              "    }\n",
              "  </style>\n",
              "\n",
              "    <script>\n",
              "      const buttonEl =\n",
              "        document.querySelector('#df-c699dbb7-42e3-4fb4-9c9e-489ead253f97 button.colab-df-convert');\n",
              "      buttonEl.style.display =\n",
              "        google.colab.kernel.accessAllowed ? 'block' : 'none';\n",
              "\n",
              "      async function convertToInteractive(key) {\n",
              "        const element = document.querySelector('#df-c699dbb7-42e3-4fb4-9c9e-489ead253f97');\n",
              "        const dataTable =\n",
              "          await google.colab.kernel.invokeFunction('convertToInteractive',\n",
              "                                                    [key], {});\n",
              "        if (!dataTable) return;\n",
              "\n",
              "        const docLinkHtml = 'Like what you see? Visit the ' +\n",
              "          '<a target=\"_blank\" href=https://colab.research.google.com/notebooks/data_table.ipynb>data table notebook</a>'\n",
              "          + ' to learn more about interactive tables.';\n",
              "        element.innerHTML = '';\n",
              "        dataTable['output_type'] = 'display_data';\n",
              "        await google.colab.output.renderOutput(dataTable, element);\n",
              "        const docLink = document.createElement('div');\n",
              "        docLink.innerHTML = docLinkHtml;\n",
              "        element.appendChild(docLink);\n",
              "      }\n",
              "    </script>\n",
              "  </div>\n",
              "\n",
              "\n",
              "<div id=\"df-579c700a-e0a1-4c0c-9727-9a702c1ef433\">\n",
              "  <button class=\"colab-df-quickchart\" onclick=\"quickchart('df-579c700a-e0a1-4c0c-9727-9a702c1ef433')\"\n",
              "            title=\"Suggest charts\"\n",
              "            style=\"display:none;\">\n",
              "\n",
              "<svg xmlns=\"http://www.w3.org/2000/svg\" height=\"24px\"viewBox=\"0 0 24 24\"\n",
              "     width=\"24px\">\n",
              "    <g>\n",
              "        <path d=\"M19 3H5c-1.1 0-2 .9-2 2v14c0 1.1.9 2 2 2h14c1.1 0 2-.9 2-2V5c0-1.1-.9-2-2-2zM9 17H7v-7h2v7zm4 0h-2V7h2v10zm4 0h-2v-4h2v4z\"/>\n",
              "    </g>\n",
              "</svg>\n",
              "  </button>\n",
              "\n",
              "<style>\n",
              "  .colab-df-quickchart {\n",
              "      --bg-color: #E8F0FE;\n",
              "      --fill-color: #1967D2;\n",
              "      --hover-bg-color: #E2EBFA;\n",
              "      --hover-fill-color: #174EA6;\n",
              "      --disabled-fill-color: #AAA;\n",
              "      --disabled-bg-color: #DDD;\n",
              "  }\n",
              "\n",
              "  [theme=dark] .colab-df-quickchart {\n",
              "      --bg-color: #3B4455;\n",
              "      --fill-color: #D2E3FC;\n",
              "      --hover-bg-color: #434B5C;\n",
              "      --hover-fill-color: #FFFFFF;\n",
              "      --disabled-bg-color: #3B4455;\n",
              "      --disabled-fill-color: #666;\n",
              "  }\n",
              "\n",
              "  .colab-df-quickchart {\n",
              "    background-color: var(--bg-color);\n",
              "    border: none;\n",
              "    border-radius: 50%;\n",
              "    cursor: pointer;\n",
              "    display: none;\n",
              "    fill: var(--fill-color);\n",
              "    height: 32px;\n",
              "    padding: 0;\n",
              "    width: 32px;\n",
              "  }\n",
              "\n",
              "  .colab-df-quickchart:hover {\n",
              "    background-color: var(--hover-bg-color);\n",
              "    box-shadow: 0 1px 2px rgba(60, 64, 67, 0.3), 0 1px 3px 1px rgba(60, 64, 67, 0.15);\n",
              "    fill: var(--button-hover-fill-color);\n",
              "  }\n",
              "\n",
              "  .colab-df-quickchart-complete:disabled,\n",
              "  .colab-df-quickchart-complete:disabled:hover {\n",
              "    background-color: var(--disabled-bg-color);\n",
              "    fill: var(--disabled-fill-color);\n",
              "    box-shadow: none;\n",
              "  }\n",
              "\n",
              "  .colab-df-spinner {\n",
              "    border: 2px solid var(--fill-color);\n",
              "    border-color: transparent;\n",
              "    border-bottom-color: var(--fill-color);\n",
              "    animation:\n",
              "      spin 1s steps(1) infinite;\n",
              "  }\n",
              "\n",
              "  @keyframes spin {\n",
              "    0% {\n",
              "      border-color: transparent;\n",
              "      border-bottom-color: var(--fill-color);\n",
              "      border-left-color: var(--fill-color);\n",
              "    }\n",
              "    20% {\n",
              "      border-color: transparent;\n",
              "      border-left-color: var(--fill-color);\n",
              "      border-top-color: var(--fill-color);\n",
              "    }\n",
              "    30% {\n",
              "      border-color: transparent;\n",
              "      border-left-color: var(--fill-color);\n",
              "      border-top-color: var(--fill-color);\n",
              "      border-right-color: var(--fill-color);\n",
              "    }\n",
              "    40% {\n",
              "      border-color: transparent;\n",
              "      border-right-color: var(--fill-color);\n",
              "      border-top-color: var(--fill-color);\n",
              "    }\n",
              "    60% {\n",
              "      border-color: transparent;\n",
              "      border-right-color: var(--fill-color);\n",
              "    }\n",
              "    80% {\n",
              "      border-color: transparent;\n",
              "      border-right-color: var(--fill-color);\n",
              "      border-bottom-color: var(--fill-color);\n",
              "    }\n",
              "    90% {\n",
              "      border-color: transparent;\n",
              "      border-bottom-color: var(--fill-color);\n",
              "    }\n",
              "  }\n",
              "</style>\n",
              "\n",
              "  <script>\n",
              "    async function quickchart(key) {\n",
              "      const quickchartButtonEl =\n",
              "        document.querySelector('#' + key + ' button');\n",
              "      quickchartButtonEl.disabled = true;  // To prevent multiple clicks.\n",
              "      quickchartButtonEl.classList.add('colab-df-spinner');\n",
              "      try {\n",
              "        const charts = await google.colab.kernel.invokeFunction(\n",
              "            'suggestCharts', [key], {});\n",
              "      } catch (error) {\n",
              "        console.error('Error during call to suggestCharts:', error);\n",
              "      }\n",
              "      quickchartButtonEl.classList.remove('colab-df-spinner');\n",
              "      quickchartButtonEl.classList.add('colab-df-quickchart-complete');\n",
              "    }\n",
              "    (() => {\n",
              "      let quickchartButtonEl =\n",
              "        document.querySelector('#df-579c700a-e0a1-4c0c-9727-9a702c1ef433 button');\n",
              "      quickchartButtonEl.style.display =\n",
              "        google.colab.kernel.accessAllowed ? 'block' : 'none';\n",
              "    })();\n",
              "  </script>\n",
              "</div>\n",
              "    </div>\n",
              "  </div>\n"
            ]
          },
          "metadata": {},
          "execution_count": 9
        }
      ]
    },
    {
      "cell_type": "code",
      "source": [
        "mean_absolute_error(frame['accelerometer_X'], new_frame['mean_X'])"
      ],
      "metadata": {
        "colab": {
          "base_uri": "https://localhost:8080/"
        },
        "id": "jFtXBFW8oDSE",
        "outputId": "dedcdc5a-0804-4030-a275-7a5db3b6224b"
      },
      "execution_count": 10,
      "outputs": [
        {
          "output_type": "execute_result",
          "data": {
            "text/plain": [
              "3.8835867733333336"
            ]
          },
          "metadata": {},
          "execution_count": 10
        }
      ]
    },
    {
      "cell_type": "code",
      "source": [
        "np.sqrt(mean_squared_error(frame['accelerometer_X'], new_frame['mean_X']))"
      ],
      "metadata": {
        "colab": {
          "base_uri": "https://localhost:8080/"
        },
        "id": "0LS-z3BLoHPQ",
        "outputId": "45593575-beb3-47cc-8fab-5f5f95843693"
      },
      "execution_count": 11,
      "outputs": [
        {
          "output_type": "execute_result",
          "data": {
            "text/plain": [
              "5.069736126099421"
            ]
          },
          "metadata": {},
          "execution_count": 11
        }
      ]
    },
    {
      "cell_type": "markdown",
      "source": [
        "### 4. Prepare one class"
      ],
      "metadata": {
        "id": "WK5MeV62_szq"
      }
    },
    {
      "cell_type": "code",
      "source": [
        "def class_data_stat_prepare(class_name, class_number):\n",
        "    path = join(URL, class_name)\n",
        "    X = []\n",
        "    for item in listdir(path):\n",
        "        frame = pd.read_csv(join(path, item))\n",
        "        features = get_stat_features(frame)\n",
        "        X.append(features)\n",
        "\n",
        "    y = [class_number]*len(X)\n",
        "\n",
        "    X = np.array(X)\n",
        "    y = np.array(y)\n",
        "\n",
        "    return X, y"
      ],
      "metadata": {
        "id": "3uFGfXY_olY2"
      },
      "execution_count": 15,
      "outputs": []
    },
    {
      "cell_type": "markdown",
      "source": [
        "### 5. Data-set creation"
      ],
      "metadata": {
        "id": "JoHjcHQV_ylr"
      }
    },
    {
      "cell_type": "code",
      "source": [
        "def create_dataset(class_prepare):\n",
        "    X_idle, y_idle = class_prepare('idle', 0)\n",
        "    X_walking, y_walking = class_prepare('walking', 1)\n",
        "    X_stairs, y_stairs = class_prepare('stairs', 2)\n",
        "    X_running, y_running = class_prepare('running', 3)\n",
        "\n",
        "    X = np.concatenate((X_idle, X_walking), axis=0)\n",
        "    X = np.concatenate((X, X_stairs), axis=0)\n",
        "    X = np.concatenate((X, X_running), axis=0)\n",
        "\n",
        "    Y = np.concatenate((y_idle, y_walking), axis=0)\n",
        "    Y = np.concatenate((Y, y_stairs), axis=0)\n",
        "    Y = np.concatenate((Y, y_running), axis=0)\n",
        "\n",
        "    return X, Y"
      ],
      "metadata": {
        "id": "1bOki8lH__IM"
      },
      "execution_count": 16,
      "outputs": []
    },
    {
      "cell_type": "code",
      "source": [
        "X, y = create_dataset(class_data_stat_prepare)"
      ],
      "metadata": {
        "id": "352L2jcYACR7"
      },
      "execution_count": 17,
      "outputs": []
    },
    {
      "cell_type": "code",
      "source": [
        "def save_data(prefix, X, y):\n",
        "    with open(f'{prefix}_X.pickle', 'wb') as f:\n",
        "        pickle.dump(X, f)\n",
        "    with open(f'{prefix}_y.pickle', 'wb') as f:\n",
        "        pickle.dump(y, f)"
      ],
      "metadata": {
        "id": "HMYv40o8AFIi"
      },
      "execution_count": 18,
      "outputs": []
    },
    {
      "cell_type": "code",
      "source": [
        "save_data('data', X, y)"
      ],
      "metadata": {
        "id": "T9g6vGSxAJmi"
      },
      "execution_count": 19,
      "outputs": []
    },
    {
      "cell_type": "code",
      "source": [
        "def load_data(prefix):\n",
        "    with open(f'{prefix}_X.pickle', 'rb') as f:\n",
        "        X = pickle.load(f)\n",
        "    with open(f'{prefix}_y.pickle', 'rb') as f:\n",
        "        y = pickle.load(f)\n",
        "    return X, y"
      ],
      "metadata": {
        "id": "NJoCwKWfAKec"
      },
      "execution_count": 20,
      "outputs": []
    },
    {
      "cell_type": "code",
      "source": [
        "X, y = load_data('data')"
      ],
      "metadata": {
        "id": "0_oaYqhhANi2"
      },
      "execution_count": 21,
      "outputs": []
    },
    {
      "cell_type": "code",
      "source": [
        "X_train, X_test, y_train, y_test = model_selection.train_test_split(X, y, train_size=0.3)"
      ],
      "metadata": {
        "id": "gqtDRzdbAQLX"
      },
      "execution_count": 22,
      "outputs": []
    },
    {
      "cell_type": "markdown",
      "source": [
        "### 6. Two algoritms comparison (SVM Classifier VS RandomForest Classifier)"
      ],
      "metadata": {
        "id": "5kufZl0mAWyV"
      }
    },
    {
      "cell_type": "code",
      "source": [
        "cls_ovo = svm.SVC(decision_function_shape='ovo', kernel='rbf', gamma=0.005, probability=True).fit(X_train, y_train)\n",
        "cls_ovr = svm.SVC(decision_function_shape='ovr', kernel='rbf', gamma=0.005, probability=True).fit(X_train, y_train)\n",
        "\n",
        "cls_forest = RandomForestClassifier().fit(X_train, y_train)"
      ],
      "metadata": {
        "id": "5ArYTQjkAoUA"
      },
      "execution_count": 23,
      "outputs": []
    },
    {
      "cell_type": "code",
      "source": [
        "svm_ovo_pred = cls_ovo.predict(X_test)\n",
        "svm_ovr_pred = cls_ovr.predict(X_test)\n",
        "\n",
        "forest_pred = cls_forest.predict(X_test)"
      ],
      "metadata": {
        "id": "csJ6laxqAr8a"
      },
      "execution_count": 24,
      "outputs": []
    },
    {
      "cell_type": "code",
      "source": [
        "svm_ovo_accuracy = accuracy_score(y_test, svm_ovo_pred)\n",
        "svm_ovr_accuracy = accuracy_score(y_test, svm_ovr_pred)\n",
        "\n",
        "forest_ovr_accuracy = accuracy_score(y_test, forest_pred)\n",
        "\n",
        "print(\"accuracy SVM ovo: \", svm_ovo_accuracy)\n",
        "print(\"accuracy SVM ovr: \", svm_ovr_accuracy)\n",
        "print(\"accuracy RandomForest: \", forest_ovr_accuracy)"
      ],
      "metadata": {
        "colab": {
          "base_uri": "https://localhost:8080/"
        },
        "id": "NMNb64YjAunr",
        "outputId": "7e38b71d-06ed-44c7-9e36-5a2579df781a"
      },
      "execution_count": 25,
      "outputs": [
        {
          "output_type": "stream",
          "name": "stdout",
          "text": [
            "accuracy SVM ovo:  0.9020902090209021\n",
            "accuracy SVM ovr:  0.9020902090209021\n",
            "accuracy RandomForest:  0.9922992299229924\n"
          ]
        }
      ]
    },
    {
      "cell_type": "code",
      "source": [
        "svm_ovo_report = classification_report(y_test, svm_ovo_pred)\n",
        "print(\"SVM ovo report: \")\n",
        "print(svm_ovo_report)\n",
        "\n",
        "svm_ovr_report = classification_report(y_test, svm_ovr_pred)\n",
        "print(\"SVM ovr report: \")\n",
        "print(svm_ovr_report)\n",
        "\n",
        "forest_report = classification_report(y_test, forest_pred)\n",
        "print(\"RandomForest report: \")\n",
        "print(forest_report)"
      ],
      "metadata": {
        "colab": {
          "base_uri": "https://localhost:8080/"
        },
        "id": "8cltqxazAxcf",
        "outputId": "bb16c7e0-b285-4f67-9794-73d141a99104"
      },
      "execution_count": 26,
      "outputs": [
        {
          "output_type": "stream",
          "name": "stdout",
          "text": [
            "SVM ovo report: \n",
            "              precision    recall  f1-score   support\n",
            "\n",
            "           0       1.00      0.86      0.93       715\n",
            "           1       0.98      0.80      0.88      1269\n",
            "           2       1.00      0.25      0.40       125\n",
            "           3       0.85      1.00      0.92      2436\n",
            "\n",
            "    accuracy                           0.90      4545\n",
            "   macro avg       0.96      0.73      0.78      4545\n",
            "weighted avg       0.91      0.90      0.90      4545\n",
            "\n",
            "SVM ovr report: \n",
            "              precision    recall  f1-score   support\n",
            "\n",
            "           0       1.00      0.86      0.93       715\n",
            "           1       0.98      0.80      0.88      1269\n",
            "           2       1.00      0.25      0.40       125\n",
            "           3       0.85      1.00      0.92      2436\n",
            "\n",
            "    accuracy                           0.90      4545\n",
            "   macro avg       0.96      0.73      0.78      4545\n",
            "weighted avg       0.91      0.90      0.90      4545\n",
            "\n",
            "RandomForest report: \n",
            "              precision    recall  f1-score   support\n",
            "\n",
            "           0       1.00      1.00      1.00       715\n",
            "           1       0.97      1.00      0.99      1269\n",
            "           2       1.00      0.72      0.84       125\n",
            "           3       1.00      1.00      1.00      2436\n",
            "\n",
            "    accuracy                           0.99      4545\n",
            "   macro avg       0.99      0.93      0.96      4545\n",
            "weighted avg       0.99      0.99      0.99      4545\n",
            "\n"
          ]
        }
      ]
    },
    {
      "cell_type": "code",
      "source": [],
      "metadata": {
        "id": "HZHCVOuMAz-_"
      },
      "execution_count": null,
      "outputs": []
    }
  ]
}